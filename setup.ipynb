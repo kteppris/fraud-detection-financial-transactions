{
 "cells": [
  {
   "cell_type": "markdown",
   "metadata": {},
   "source": [
    "# Setup\n",
    "\n",
    "1. Installieren der notwendigen Packete\n",
    "2. Downloaden des Datensatzes\n",
    "3. Entpacken der Zip Datei."
   ]
  },
  {
   "cell_type": "markdown",
   "metadata": {},
   "source": [
    "## 1. Pakete installieren"
   ]
  },
  {
   "cell_type": "markdown",
   "metadata": {},
   "source": [
    "Es ist empfehlenswert ein Virtueles Environment zu erstellen, um die Abhängigkeiten zu verwalten.\n",
    "Hierfür gibt es drei Möglichkeiten:\n",
    "1. Virtualenv\n",
    "2. Pipenv\n",
    "3. Conda\n",
    "\n",
    "In diesem Beispiel verwenden wir conda, für andere vorgehensweise bitte die Dokumentation lesen.\n",
    "\n",
    "Folgenden Befehle werden im Terminal ausgeführt:\n",
    "\n",
    "Erstellen eines neuen Environments:\n",
    "`conda create --name myenv``\n",
    "Aktivieren des Environments:\n",
    "```bash\n",
    "conda activate fraud\n",
    "```\n",
    "Installieren der Pakete:\n",
    "```bash\n",
    "pip install -r requirements.txt`\n",
    "```\n",
    "Hinzufügen des Environments zu Jupyter Notebook:\n",
    "```bash\n",
    "python -m ipykernel install --user --name=fraud\n",
    "```\n",
    "\n",
    "Jetzt kann oben rechts im Jupyternotebook der Kernel zu dem Neuen  Environment gewechselt werden.\n",
    "\n"
   ]
  },
  {
   "cell_type": "markdown",
   "metadata": {},
   "source": [
    "## 2. Download the dataset\n",
    "\n",
    "Es gibt zwei möglichkeiten den Datensatz herunterzuladen, entweder direkt unter dem Link manuell, oder über das Kaggle package.\n",
    "\n",
    "**Manueller Download:**\n",
    "[Download Link](https://www.kaggle.com/datasets/goyaladi/fraud-detection-dataset/download?datasetVersionNumber=3)\n",
    "\n",
    "**Download via API**\n",
    "1. Öffne [Kaggle Setting Seite](https://www.kaggle.com/settings)\n",
    "2. Klicke auf `Create new Token`\n",
    "3. Erstelle eine Datei im root Verzeichnis des Projektes mit dem Namen .env\n",
    "4. Füge folgende Zeile in die `.env`-Datei ein und ersetze `<your-api-token>` und `<your-user-name>` durch deinen eigenen Token und Nutzernamen aus der bei Kaggle gedownloadeten Datei\n",
    "\n",
    "```bash\n",
    "KAGGLE_KEY=<your-api-token>\n",
    "KAGGLE_USERNAME=<your-user-name>\n",
    "```\n",
    "\n",
    "Für den download mit der API für die folgende Zelle aus, sonst überspringe diese."
   ]
  },
  {
   "cell_type": "code",
   "execution_count": 2,
   "metadata": {},
   "outputs": [
    {
     "name": "stdout",
     "output_type": "stream",
     "text": [
      "Downloading fraud-detection-dataset.zip to /media/Data/Linux/Projekte/Nordakademie/fraud-detection-financial-transactions\n",
      "100%|███████████████████████████████████████| 82.9k/82.9k [00:00<00:00, 412kB/s]\n",
      "100%|███████████████████████████████████████| 82.9k/82.9k [00:00<00:00, 411kB/s]\n"
     ]
    }
   ],
   "source": [
    "from dotenv import load_dotenv\n",
    "import os\n",
    "\n",
    "load_dotenv()  \n",
    "\n",
    "!kaggle datasets download -d goyaladi/fraud-detection-dataset"
   ]
  },
  {
   "cell_type": "markdown",
   "metadata": {},
   "source": [
    "Unter der Annahme, dass sich jetzt der zip Ordner in dem  Verzeichnis befindet, können wir den mit der folgenden Zelle entpacken."
   ]
  },
  {
   "cell_type": "code",
   "execution_count": 6,
   "metadata": {},
   "outputs": [
    {
     "name": "stdout",
     "output_type": "stream",
     "text": [
      "Done!\n"
     ]
    }
   ],
   "source": [
    "import zipfile\n",
    "import shutil\n",
    "from pathlib import Path\n",
    "\n",
    "# Zip Dateiname\n",
    "zip_file_path = 'fraud-detection-dataset.zip'\n",
    "# Temorären Ordnername\n",
    "temp_extract_path = 'temp_extracted'\n",
    "\n",
    "# Step 1: Zip Datein entpacken\n",
    "with zipfile.ZipFile(zip_file_path, 'r') as zip_ref:\n",
    "    zip_ref.extractall(temp_extract_path)\n",
    "\n",
    "# Step 3: Den Datenordner auf rootebene verschieben\n",
    "data_dir_path = Path(temp_extract_path) / 'Data'\n",
    "# Bewege Data Ordner auf rootebene\n",
    "shutil.move(str(data_dir_path), '.')\n",
    "# Step 4: Temporären Ordner löschen\n",
    "shutil.rmtree(temp_extract_path)\n",
    "# Step 5: Zip Datei löschen\n",
    "Path(zip_file_path).unlink()\n",
    "print('Done!')"
   ]
  }
 ],
 "metadata": {
  "kernelspec": {
   "display_name": "fraud",
   "language": "python",
   "name": "python3"
  },
  "language_info": {
   "codemirror_mode": {
    "name": "ipython",
    "version": 3
   },
   "file_extension": ".py",
   "mimetype": "text/x-python",
   "name": "python",
   "nbconvert_exporter": "python",
   "pygments_lexer": "ipython3",
   "version": "3.12.1"
  }
 },
 "nbformat": 4,
 "nbformat_minor": 2
}
